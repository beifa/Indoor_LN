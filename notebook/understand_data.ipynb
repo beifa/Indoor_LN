{
 "cells": [
  {
   "cell_type": "markdown",
   "id": "convertible-demand",
   "metadata": {},
   "source": [
    "## Indoor Location & Navigation\n",
    "\n",
    "В этом соревновании ваша задача - предсказать положение смартфонов в помещении на основе данных датчиков в реальном времени, предоставленных компанией XYZ10, занимающейся технологиями внутреннего позиционирования, в партнерстве с Microsoft Research.\n",
    "\n",
    "Metric\n",
    "Submissions are evaluated on the mean position error as defined as:\n",
    "\n",
    "$$\\text{mean position error} = \\frac{1}{N} \\sum_{i=1}^{N}  \n",
    "                                                \\left( \\sqrt{( \\hat{x}_i - x_i )^{2} + ( \\hat{y}_i - y_i )^{2}} \n",
    "                                                + p \\cdot | \\hat{f}_{i} - f_i | \\right)$$\n",
    "                                                \n",
    "where:\n",
    "\n",
    "- N is the number of rows in the test set\n",
    "- $\\hat{x}$,$\\hat{y}$ are the predicted locations for a given test row\n",
    "- x, y are the ground truth locations for a given test row\n",
    "- p is the floor penalty, set at 15\n",
    "- $\\hat{f}$, f are the predicted and ground truth integer floor level for a given test row\n",
    "\n",
    "IMPORTANT: The integer floor used in the submission must be mapped from the char/int floors used in the dataset. The mapping is as follows:\n",
    "\n",
    "- F1, 1F  0\n",
    "- F2, 2F  1\n",
    "- etc.\n",
    "- B1, 1B  -1\n",
    "- B2, 2B  -2\n",
    "\n",
    "\n",
    "Набор данных для этого соревнования состоит из плотных внутренних сигнатур:\n",
    "- Wi-Fi,\n",
    "- геомагнитного поля,\n",
    "- iBeacons и т. Д.,\n",
    "\n",
    "А также наземных данных (путевых точек) (местоположений), собранных из сотен зданий в китайских городах. Данные, содержащиеся в файлах трассировки пути (* .txt), соответствуют внутреннему пути между точками p_1 и p_2, пройденному геодезистом."
   ]
  },
  {
   "cell_type": "markdown",
   "id": "approved-institute",
   "metadata": {},
   "source": [
    "## Look to data"
   ]
  },
  {
   "cell_type": "code",
   "execution_count": 1,
   "id": "incorporate-patent",
   "metadata": {},
   "outputs": [],
   "source": [
    "import glob, os, gc\n",
    "import numpy as np\n",
    "import pandas as pd"
   ]
  },
  {
   "cell_type": "markdown",
   "id": "elect-spencer",
   "metadata": {},
   "source": [
    "TYPE_ACCELEROMETER\n",
    "TYPE_MAGNETIC_FIELD\n",
    "TYPE_GYROSCOPE\n",
    "TYPE_ROTATION_VECTOR\n",
    "TYPE_MAGNETIC_FIELD_UNCALIBRATED\n",
    "TYPE_GYROSCOPE_UNCALIBRATED\n",
    "TYPE_ACCELEROMETER_UNCALIBRATED\n",
    "TYPE_WIFI\n",
    "TYPE_BEACON\n",
    "TYPE_WAYPOINT: ground truth location labeled by the surveyor"
   ]
  },
  {
   "cell_type": "code",
   "execution_count": null,
   "id": "painful-museum",
   "metadata": {},
   "outputs": [],
   "source": []
  },
  {
   "cell_type": "code",
   "execution_count": null,
   "id": "buried-pantyhose",
   "metadata": {},
   "outputs": [],
   "source": []
  },
  {
   "cell_type": "code",
   "execution_count": null,
   "id": "correct-chrome",
   "metadata": {},
   "outputs": [],
   "source": []
  },
  {
   "cell_type": "code",
   "execution_count": null,
   "id": "irish-stuart",
   "metadata": {},
   "outputs": [],
   "source": []
  }
 ],
 "metadata": {
  "kernelspec": {
   "display_name": "Python 3",
   "language": "python",
   "name": "python3"
  },
  "language_info": {
   "codemirror_mode": {
    "name": "ipython",
    "version": 3
   },
   "file_extension": ".py",
   "mimetype": "text/x-python",
   "name": "python",
   "nbconvert_exporter": "python",
   "pygments_lexer": "ipython3",
   "version": "3.8.5"
  }
 },
 "nbformat": 4,
 "nbformat_minor": 5
}
