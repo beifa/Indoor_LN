{
 "cells": [
  {
   "cell_type": "markdown",
   "id": "illegal-greeting",
   "metadata": {},
   "source": [
    "## Indoor Location & Navigation\n",
    "\n",
    "В этом соревновании ваша задача - предсказать положение смартфонов в помещении на основе данных датчиков в реальном времени, предоставленных компанией XYZ10, занимающейся технологиями внутреннего позиционирования, в партнерстве с Microsoft Research.\n",
    "\n",
    "Metric\n",
    "Submissions are evaluated on the mean position error as defined as:\n",
    "\n",
    "$$\\text{mean position error} = \\frac{1}{N} \\sum_{i=1}^{N}  \n",
    "                                                \\left( \\sqrt{( \\hat{x}_i - x_i )^{2} + ( \\hat{y}_i - y_i )^{2}} \n",
    "                                                + p \\cdot | \\hat{f}_{i} - f_i | \\right)$$\n",
    "                                                \n",
    "where:\n",
    "\n",
    "- N is the number of rows in the test set\n",
    "- $\\hat{x}$,$\\hat{y}$ are the predicted locations for a given test row\n",
    "- x, y are the ground truth locations for a given test row\n",
    "- p is the floor penalty, set at 15\n",
    "- $\\hat{f}$, f are the predicted and ground truth integer floor level for a given test row\n",
    "\n",
    "IMPORTANT: The integer floor used in the submission must be mapped from the char/int floors used in the dataset. The mapping is as follows:\n",
    "\n",
    "- F1, 1F  0\n",
    "- F2, 2F  1\n",
    "- etc.\n",
    "- B1, 1B  -1\n",
    "- B2, 2B  -2\n",
    "\n",
    "\n",
    "Набор данных для этого соревнования состоит из плотных внутренних сигнатур:\n",
    "- Wi-Fi,\n",
    "- геомагнитного поля,\n",
    "- iBeacons и т. Д.,\n",
    "\n",
    "А также наземных данных (путевых точек) (местоположений), собранных из сотен зданий в китайских городах. Данные, содержащиеся в файлах трассировки пути (* .txt), соответствуют внутреннему пути между точками p_1 и p_2, пройденному геодезистом."
   ]
  },
  {
   "cell_type": "markdown",
   "id": "allied-watershed",
   "metadata": {},
   "source": [
    "## Look to data\n",
    "\n",
    "- TYPE_ACCELEROMETER\n",
    "- TYPE_MAGNETIC_FIELD\n",
    "- TYPE_GYROSCOPE\n",
    "- TYPE_ROTATION_VECTOR\n",
    "- TYPE_MAGNETIC_FIELD_UNCALIBRATED\n",
    "- TYPE_GYROSCOPE_UNCALIBRATED\n",
    "- TYPE_ACCELEROMETER_UNCALIBRATED\n",
    "- TYPE_WIFI\n",
    "- TYPE_BEACON\n",
    "- TYPE_WAYPOINT: ground truth location labeled by the surveyor\n",
    "\n",
    "```\n",
    "data\n",
    "  |___ /input/train/\n",
    "          file1\n",
    "            |___ floor(B1,F1....)\n",
    "            |        B1       \n",
    "            |        |___ trace_file\n",
    "            |        |    5dda14a2c5b77e0006b17533.txt\n",
    "            |        |        |     |___ types\n",
    "            |        |        |         |\n",
    "            |        |        |         TYPE_ACCELEROMETER\n",
    "            |        |    meta_data          ...\n",
    "            |        |        |___ \n",
    "            |        |             floor_image.png \n",
    "            |        |             floor_info.json  \n",
    "            |        |             geojson_map.json\n",
    "            |        F1                     \n",
    "          file 2    ...\n",
    "           ...\n",
    "```\n"
   ]
  },
  {
   "cell_type": "code",
   "execution_count": 1,
   "id": "written-tracker",
   "metadata": {},
   "outputs": [],
   "source": [
    "import glob, os, gc\n",
    "import numpy as np\n",
    "import pandas as pd\n",
    "from IPython.core.display import HTML\n",
    "\n",
    "\n",
    "path = '../input/train/'"
   ]
  },
  {
   "cell_type": "code",
   "execution_count": 17,
   "id": "italian-arthur",
   "metadata": {},
   "outputs": [],
   "source": [
    "def simple_data(typ: str, name: str, floor: str, file: str, columns: list):\n",
    "    box = []\n",
    "    with open(os.path.join(path, name, floor, file)) as f:\n",
    "        txt = f.readlines()\n",
    "        count = 0\n",
    "        for line in txt:\n",
    "            tmp = line.strip().split()\n",
    "            if tmp[1] == typ:                \n",
    "                box.append(tmp)\n",
    "                count += 1\n",
    "                if count == 5:\n",
    "                    break\n",
    "    display(HTML(pd.DataFrame(box, columns = columns).to_html()))             \n",
    "    "
   ]
  },
  {
   "cell_type": "code",
   "execution_count": 18,
   "id": "surface-matter",
   "metadata": {},
   "outputs": [
    {
     "data": {
      "text/html": [
       "<table border=\"1\" class=\"dataframe\">\n",
       "  <thead>\n",
       "    <tr style=\"text-align: right;\">\n",
       "      <th></th>\n",
       "      <th>time</th>\n",
       "      <th>data tipe</th>\n",
       "      <th>X axis</th>\n",
       "      <th>Y axis</th>\n",
       "      <th>Z axis</th>\n",
       "      <th>accuracy</th>\n",
       "    </tr>\n",
       "  </thead>\n",
       "  <tbody>\n",
       "    <tr>\n",
       "      <th>0</th>\n",
       "      <td>1578462618653</td>\n",
       "      <td>TYPE_ACCELEROMETER</td>\n",
       "      <td>0.0236969</td>\n",
       "      <td>4.450943</td>\n",
       "      <td>9.055649</td>\n",
       "      <td>2</td>\n",
       "    </tr>\n",
       "    <tr>\n",
       "      <th>1</th>\n",
       "      <td>1578462618673</td>\n",
       "      <td>TYPE_ACCELEROMETER</td>\n",
       "      <td>0.050628662</td>\n",
       "      <td>4.552109</td>\n",
       "      <td>9.074799</td>\n",
       "      <td>2</td>\n",
       "    </tr>\n",
       "    <tr>\n",
       "      <th>2</th>\n",
       "      <td>1578462618693</td>\n",
       "      <td>TYPE_ACCELEROMETER</td>\n",
       "      <td>0.0015563965</td>\n",
       "      <td>4.462326</td>\n",
       "      <td>9.131668</td>\n",
       "      <td>2</td>\n",
       "    </tr>\n",
       "    <tr>\n",
       "      <th>3</th>\n",
       "      <td>1578462618713</td>\n",
       "      <td>TYPE_ACCELEROMETER</td>\n",
       "      <td>0.055419922</td>\n",
       "      <td>4.552704</td>\n",
       "      <td>8.652237</td>\n",
       "      <td>2</td>\n",
       "    </tr>\n",
       "    <tr>\n",
       "      <th>4</th>\n",
       "      <td>1578462618733</td>\n",
       "      <td>TYPE_ACCELEROMETER</td>\n",
       "      <td>-0.029571533</td>\n",
       "      <td>4.6341095</td>\n",
       "      <td>8.662399</td>\n",
       "      <td>2</td>\n",
       "    </tr>\n",
       "  </tbody>\n",
       "</table>"
      ],
      "text/plain": [
       "<IPython.core.display.HTML object>"
      ]
     },
     "metadata": {},
     "output_type": "display_data"
    }
   ],
   "source": [
    "name    = '5a0546857ecc773753327266'\n",
    "floor   = 'B1'\n",
    "file    = '5e15730aa280850006f3d005.txt'\n",
    "columns = ['time', 'data tipe','X axis', 'Y axis', 'Z axis','accuracy']\n",
    "typ     = 'TYPE_ACCELEROMETER'\n",
    "simple_data(typ, name, floor, file, columns)"
   ]
  },
  {
   "cell_type": "code",
   "execution_count": 21,
   "id": "committed-arizona",
   "metadata": {},
   "outputs": [
    {
     "data": {
      "text/html": [
       "<table border=\"1\" class=\"dataframe\">\n",
       "  <thead>\n",
       "    <tr style=\"text-align: right;\">\n",
       "      <th></th>\n",
       "      <th>time</th>\n",
       "      <th>data tipe</th>\n",
       "      <th>Coordinate x (meter)</th>\n",
       "      <th>Coordinate y (meter)</th>\n",
       "    </tr>\n",
       "  </thead>\n",
       "  <tbody>\n",
       "    <tr>\n",
       "      <th>0</th>\n",
       "      <td>1578462618392</td>\n",
       "      <td>TYPE_WAYPOINT</td>\n",
       "      <td>230.03738</td>\n",
       "      <td>153.49635</td>\n",
       "    </tr>\n",
       "    <tr>\n",
       "      <th>1</th>\n",
       "      <td>1578462628512</td>\n",
       "      <td>TYPE_WAYPOINT</td>\n",
       "      <td>231.4029</td>\n",
       "      <td>158.41515</td>\n",
       "    </tr>\n",
       "    <tr>\n",
       "      <th>2</th>\n",
       "      <td>1578462638947</td>\n",
       "      <td>TYPE_WAYPOINT</td>\n",
       "      <td>232.462</td>\n",
       "      <td>164.41673</td>\n",
       "    </tr>\n",
       "    <tr>\n",
       "      <th>3</th>\n",
       "      <td>1578462649660</td>\n",
       "      <td>TYPE_WAYPOINT</td>\n",
       "      <td>233.94418</td>\n",
       "      <td>171.41417</td>\n",
       "    </tr>\n",
       "  </tbody>\n",
       "</table>"
      ],
      "text/plain": [
       "<IPython.core.display.HTML object>"
      ]
     },
     "metadata": {},
     "output_type": "display_data"
    }
   ],
   "source": [
    "name    = '5a0546857ecc773753327266'\n",
    "floor   = 'B1'\n",
    "file    = '5e15730aa280850006f3d005.txt'\n",
    "columns = ['time', 'data tipe','Coordinate x (meter)', 'Coordinate y (meter)']\n",
    "typ     = 'TYPE_WAYPOINT'\n",
    "simple_data(typ, name, floor, file, columns)"
   ]
  },
  {
   "cell_type": "code",
   "execution_count": 22,
   "id": "worst-google",
   "metadata": {},
   "outputs": [
    {
     "data": {
      "text/html": [
       "<table border=\"1\" class=\"dataframe\">\n",
       "  <thead>\n",
       "    <tr style=\"text-align: right;\">\n",
       "      <th></th>\n",
       "      <th>time</th>\n",
       "      <th>data tipe</th>\n",
       "      <th>ssid</th>\n",
       "      <th>bssid</th>\n",
       "      <th>RSSI</th>\n",
       "      <th>frequency</th>\n",
       "      <th>last seen timestamp</th>\n",
       "    </tr>\n",
       "  </thead>\n",
       "  <tbody>\n",
       "    <tr>\n",
       "      <th>0</th>\n",
       "      <td>1578462618826</td>\n",
       "      <td>TYPE_WIFI</td>\n",
       "      <td>da39a3ee5e6b4b0d3255bfef95601890afd80709</td>\n",
       "      <td>c08ad78a45798cfe176a42b35c7381ae602711c5</td>\n",
       "      <td>-46</td>\n",
       "      <td>5825</td>\n",
       "      <td>1578462603277</td>\n",
       "    </tr>\n",
       "    <tr>\n",
       "      <th>1</th>\n",
       "      <td>1578462618826</td>\n",
       "      <td>TYPE_WIFI</td>\n",
       "      <td>7182afc4e5c212133d5d7d76eb3df6c24618302b</td>\n",
       "      <td>4d89139ca69acc0a8a762672a822411a769ac266</td>\n",
       "      <td>-49</td>\n",
       "      <td>5825</td>\n",
       "      <td>1578462618272</td>\n",
       "    </tr>\n",
       "    <tr>\n",
       "      <th>2</th>\n",
       "      <td>1578462618826</td>\n",
       "      <td>TYPE_WIFI</td>\n",
       "      <td>d839a45ebe64ab48b60a407d837fb01d3c0dfef9</td>\n",
       "      <td>30f85a5e14351468a6dd13718a9da3b0d7b73685</td>\n",
       "      <td>-49</td>\n",
       "      <td>5825</td>\n",
       "      <td>1578462618268</td>\n",
       "    </tr>\n",
       "    <tr>\n",
       "      <th>3</th>\n",
       "      <td>1578462618826</td>\n",
       "      <td>TYPE_WIFI</td>\n",
       "      <td>b6ffe5619e02871fcd04f61c9bb4b5c53a3f46b7</td>\n",
       "      <td>fd0bdf5a4dca2566935b14a78c441846b4fbda57</td>\n",
       "      <td>-49</td>\n",
       "      <td>5825</td>\n",
       "      <td>1578462618270</td>\n",
       "    </tr>\n",
       "    <tr>\n",
       "      <th>4</th>\n",
       "      <td>1578462618826</td>\n",
       "      <td>TYPE_WIFI</td>\n",
       "      <td>b7e6027447eb1f81327d66cfd3adbe557aabf26c</td>\n",
       "      <td>bce435ee12b29ad4d543e1418e48fbdea5dfcce2</td>\n",
       "      <td>-49</td>\n",
       "      <td>5825</td>\n",
       "      <td>1578462618271</td>\n",
       "    </tr>\n",
       "  </tbody>\n",
       "</table>"
      ],
      "text/plain": [
       "<IPython.core.display.HTML object>"
      ]
     },
     "metadata": {},
     "output_type": "display_data"
    }
   ],
   "source": [
    "name    = '5a0546857ecc773753327266'\n",
    "floor   = 'B1'\n",
    "file    = '5e15730aa280850006f3d005.txt'\n",
    "columns = ['time', 'data tipe','ssid', 'bssid', 'RSSI', 'frequency', 'last seen timestamp']\n",
    "typ     = 'TYPE_WIFI'\n",
    "simple_data(typ, name, floor, file, columns)"
   ]
  },
  {
   "cell_type": "code",
   "execution_count": 23,
   "id": "accurate-field",
   "metadata": {},
   "outputs": [
    {
     "data": {
      "text/html": [
       "<table border=\"1\" class=\"dataframe\">\n",
       "  <thead>\n",
       "    <tr style=\"text-align: right;\">\n",
       "      <th></th>\n",
       "      <th>time</th>\n",
       "      <th>data tipe</th>\n",
       "      <th>UUID</th>\n",
       "      <th>MajorID</th>\n",
       "      <th>MinorID</th>\n",
       "      <th>Tx Power</th>\n",
       "      <th>RSSI</th>\n",
       "      <th>Distance</th>\n",
       "      <th>MAC Address</th>\n",
       "      <th>time</th>\n",
       "    </tr>\n",
       "  </thead>\n",
       "  <tbody>\n",
       "    <tr>\n",
       "      <th>0</th>\n",
       "      <td>1578462618698</td>\n",
       "      <td>TYPE_BEACON</td>\n",
       "      <td>d9c573b719a17da4836208fc436f87b5ca1aa877</td>\n",
       "      <td>b6589fc6ab0dc82cf12099d1c2d40ab994e8410c</td>\n",
       "      <td>b6589fc6ab0dc82cf12099d1c2d40ab994e8410c</td>\n",
       "      <td>-56</td>\n",
       "      <td>-58</td>\n",
       "      <td>1.2902861669921697</td>\n",
       "      <td>ff9a29cb2dcb4100880d02b305d5691e578e66cf</td>\n",
       "      <td>1578462618698</td>\n",
       "    </tr>\n",
       "    <tr>\n",
       "      <th>1</th>\n",
       "      <td>1578462618777</td>\n",
       "      <td>TYPE_BEACON</td>\n",
       "      <td>d9c573b719a17da4836208fc436f87b5ca1aa877</td>\n",
       "      <td>b6589fc6ab0dc82cf12099d1c2d40ab994e8410c</td>\n",
       "      <td>b6589fc6ab0dc82cf12099d1c2d40ab994e8410c</td>\n",
       "      <td>-56</td>\n",
       "      <td>-75</td>\n",
       "      <td>8.66670689767102</td>\n",
       "      <td>a66e07d12078c184858797814ef872dbf8aa1af6</td>\n",
       "      <td>1578462618777</td>\n",
       "    </tr>\n",
       "    <tr>\n",
       "      <th>2</th>\n",
       "      <td>1578462618786</td>\n",
       "      <td>TYPE_BEACON</td>\n",
       "      <td>d9c573b719a17da4836208fc436f87b5ca1aa877</td>\n",
       "      <td>b6589fc6ab0dc82cf12099d1c2d40ab994e8410c</td>\n",
       "      <td>b6589fc6ab0dc82cf12099d1c2d40ab994e8410c</td>\n",
       "      <td>-56</td>\n",
       "      <td>-76</td>\n",
       "      <td>9.586529272742789</td>\n",
       "      <td>6c8aeb5f05fa3b2458538c8af36d069fa2c54620</td>\n",
       "      <td>1578462618786</td>\n",
       "    </tr>\n",
       "    <tr>\n",
       "      <th>3</th>\n",
       "      <td>1578462618790</td>\n",
       "      <td>TYPE_BEACON</td>\n",
       "      <td>d9c573b719a17da4836208fc436f87b5ca1aa877</td>\n",
       "      <td>b6589fc6ab0dc82cf12099d1c2d40ab994e8410c</td>\n",
       "      <td>b6589fc6ab0dc82cf12099d1c2d40ab994e8410c</td>\n",
       "      <td>-56</td>\n",
       "      <td>-63</td>\n",
       "      <td>2.3419357036317217</td>\n",
       "      <td>26145e606b575396f4ca1bc439d2a9b37fdc6fa0</td>\n",
       "      <td>1578462618790</td>\n",
       "    </tr>\n",
       "    <tr>\n",
       "      <th>4</th>\n",
       "      <td>1578462618791</td>\n",
       "      <td>TYPE_BEACON</td>\n",
       "      <td>d9c573b719a17da4836208fc436f87b5ca1aa877</td>\n",
       "      <td>b6589fc6ab0dc82cf12099d1c2d40ab994e8410c</td>\n",
       "      <td>b6589fc6ab0dc82cf12099d1c2d40ab994e8410c</td>\n",
       "      <td>-56</td>\n",
       "      <td>-57</td>\n",
       "      <td>1.1423077651217026</td>\n",
       "      <td>ff9a29cb2dcb4100880d02b305d5691e578e66cf</td>\n",
       "      <td>1578462618791</td>\n",
       "    </tr>\n",
       "  </tbody>\n",
       "</table>"
      ],
      "text/plain": [
       "<IPython.core.display.HTML object>"
      ]
     },
     "metadata": {},
     "output_type": "display_data"
    }
   ],
   "source": [
    "name    = '5a0546857ecc773753327266'\n",
    "floor   = 'B1'\n",
    "file    = '5e15730aa280850006f3d005.txt'\n",
    "columns = ['time', 'data tipe',\n",
    "           'UUID',\t'MajorID',\n",
    "           'MinorID',\t'Tx Power',\t\n",
    "           'RSSI',\t'Distance',\n",
    "           'MAC Address','time']\n",
    "typ     = 'TYPE_BEACON'\n",
    "simple_data(typ, name, floor, file, columns)"
   ]
  },
  {
   "cell_type": "markdown",
   "id": "appointed-designer",
   "metadata": {},
   "source": [
    "## Data quality problem\n",
    "\n",
    "Примечание о качестве данных: в обучающих файлах вы можете иногда обнаружить, что в строке отсутствует конечный символ новой строки, что приводит к переходу к следующей строке. Как решить эту проблему - решать вам. Этой проблемы нет в тестовых данных.\n",
    "\n",
    "Кол-во строк: 26925\n",
    "Нет последней строки: {'5cd56b83e2acfd2d33b5cab0B2': 0\n",
    "Кол-во строк в начале меньше заявленного: 131\n",
    "длина срок > 200 : 927"
   ]
  },
  {
   "cell_type": "code",
   "execution_count": 3,
   "id": "dramatic-brown",
   "metadata": {},
   "outputs": [],
   "source": [
    "f1 = os.path.join(path, '5da138b74db8ce0c98bd4774/F3/5db299ab5741f4000680a7d3.txt')\n",
    "with open(f1) as f:\n",
    "    txt = f.readlines()"
   ]
  },
  {
   "cell_type": "code",
   "execution_count": 7,
   "id": "breathing-musician",
   "metadata": {},
   "outputs": [
    {
     "data": {
      "text/plain": [
       "['#\\tstartTime:1571984628356\\n',\n",
       " '#\\tSiteID:5da138b74db8ce0c98bd4774\\tSiteName:万象城\\tFloorId:5da138ba4db8ce0c98bd4f61\\tFloorName:F3\\n',\n",
       " '1571984628363\\tTYPE_WAYPOINT\\t69.55722\\t47.792942\\n',\n",
       " '1571984628475\\tTYPE_ACCELEROMETER\\t-0.7484894\\t-0.21789551\\t11.977112\\t2\\n',\n",
       " '1571984628475\\tTYPE_MAGNETIC_FIELD\\t-6.1431885\\t19.187927\\t-35.90851\\t3\\n',\n",
       " '1571984628475\\tTYPE_GYROSCOPE\\t0.3887329\\t0.01802063\\t-0.0914917\\t3\\n',\n",
       " '1571984628475\\tTYPE_ROTATION_VECTOR\\t-5.021889E-4\\t0.02278449\\t-0.17875691\\t3\\n',\n",
       " '1571984628475\\tTYPE_MAGNETIC_FIELD_UNCALIBRATED\\t-58.27484\\t-61.743164\\t-321.74988\\t-52.131653\\t-80.93109\\t-285.84137\\t3\\n',\n",
       " '1571984628475\\tTYPE_GYROSCOPE_UNCALIBRATED\\t0.25737\\t0.0635376\\t-0.14186096\\t-3.3569336E-4\\t-2.89917E-4\\t2.4414062E-4\\t3\\n',\n",
       " '1571984628475\\tTYPE_ACCELEROMETER_UNCALIBRATED\\t-0.79696655\\t-0.22686768\\t11.796951\\t0.0\\t0.0\\t0.0\\t3\\n']"
      ]
     },
     "execution_count": 7,
     "metadata": {},
     "output_type": "execute_result"
    }
   ],
   "source": [
    "txt[:10]"
   ]
  },
  {
   "cell_type": "markdown",
   "id": "immune-activation",
   "metadata": {},
   "source": [
    "В начале всего две строки"
   ]
  },
  {
   "cell_type": "code",
   "execution_count": 45,
   "id": "postal-bridges",
   "metadata": {},
   "outputs": [],
   "source": [
    "f1 = os.path.join(path, '5da138b74db8ce0c98bd4774/F3/5db299ab5741f4000680a7d3.txt')\n",
    "dct = {}\n",
    "with open(f1) as f:\n",
    "    count = 0\n",
    "    txt = f.readlines()\n",
    "    for t in txt:\n",
    "        if '#' in t:\n",
    "            count += 1"
   ]
  },
  {
   "cell_type": "code",
   "execution_count": 12,
   "id": "graphic-bonus",
   "metadata": {},
   "outputs": [
    {
     "data": {
      "text/plain": [
       "'5da138b74db8ce0c98bd4774'"
      ]
     },
     "execution_count": 12,
     "metadata": {},
     "output_type": "execute_result"
    }
   ],
   "source": [
    "f1.split('/')[-3]"
   ]
  },
  {
   "cell_type": "code",
   "execution_count": 17,
   "id": "appropriate-transsexual",
   "metadata": {},
   "outputs": [],
   "source": [
    "all_files = glob.glob('../input/train/*/*/*')"
   ]
  },
  {
   "cell_type": "code",
   "execution_count": 19,
   "id": "painted-weekly",
   "metadata": {},
   "outputs": [
    {
     "data": {
      "text/plain": [
       "26925"
      ]
     },
     "execution_count": 19,
     "metadata": {},
     "output_type": "execute_result"
    }
   ],
   "source": [
    "len(all_files)"
   ]
  },
  {
   "cell_type": "code",
   "execution_count": 49,
   "id": "hispanic-improvement",
   "metadata": {},
   "outputs": [],
   "source": [
    "dct = {}\n",
    "for file in all_files[:1000]:\n",
    "    f1 = file.split('/')\n",
    "    with open(file) as f:\n",
    "        count = 0\n",
    "        txt = f.readlines()\n",
    "        for t in txt[:20]:\n",
    "            if '#' in t:\n",
    "                count += 1\n",
    "        if count < 7:\n",
    "            dct[f1[-3] + f1[-2]] = count"
   ]
  },
  {
   "cell_type": "code",
   "execution_count": 50,
   "id": "afraid-daughter",
   "metadata": {},
   "outputs": [
    {
     "data": {
      "text/plain": [
       "{'5cd56c29e2acfd2d33b6d915B1': 7,\n",
       " '5cd56c29e2acfd2d33b6d915F6': 7,\n",
       " '5cd56c29e2acfd2d33b6d915L1': 7,\n",
       " '5cd56c29e2acfd2d33b6d915F2': 7,\n",
       " '5cd56c29e2acfd2d33b6d915F5': 7,\n",
       " '5cd56c29e2acfd2d33b6d915B2': 7,\n",
       " '5cd56c29e2acfd2d33b6d915F4': 7,\n",
       " '5cd56c29e2acfd2d33b6d915F3': 7,\n",
       " '5dbc1d84c1eb61796cf7c010B1': 10,\n",
       " '5dbc1d84c1eb61796cf7c010F6': 10,\n",
       " '5dbc1d84c1eb61796cf7c010F2': 10,\n",
       " '5dbc1d84c1eb61796cf7c010F5': 10,\n",
       " '5dbc1d84c1eb61796cf7c010F7': 10,\n",
       " '5dbc1d84c1eb61796cf7c010F4': 10,\n",
       " '5dbc1d84c1eb61796cf7c010F3': 10,\n",
       " '5dbc1d84c1eb61796cf7c010F8': 10}"
      ]
     },
     "execution_count": 50,
     "metadata": {},
     "output_type": "execute_result"
    }
   ],
   "source": [
    "dct"
   ]
  },
  {
   "cell_type": "code",
   "execution_count": null,
   "id": "integrated-relative",
   "metadata": {},
   "outputs": [],
   "source": [
    "f1 = os.path.join(path, '5da138b74db8ce0c98bd4774/F3/5db299ab5741f4000680a7d3.txt')\n",
    "dct = {}\n",
    "with open(f1) as f:\n",
    "    count = 0\n",
    "    txt = f.readlines()\n",
    "    for t in txt:\n",
    "        print(len(t))"
   ]
  },
  {
   "cell_type": "code",
   "execution_count": 52,
   "id": "administrative-prize",
   "metadata": {},
   "outputs": [],
   "source": [
    "dct = {}\n",
    "for file in all_files:\n",
    "    f1 = file.split('/')\n",
    "    with open(file) as f:     \n",
    "        txt = f.readlines()\n",
    "        for t in txt:\n",
    "            if len(t) > 150:\n",
    "                dct[f1[-3] + f1[-2]] = len(t)"
   ]
  },
  {
   "cell_type": "code",
   "execution_count": null,
   "id": "japanese-implementation",
   "metadata": {},
   "outputs": [],
   "source": [
    "dct"
   ]
  },
  {
   "cell_type": "code",
   "execution_count": 62,
   "id": "specialized-ferry",
   "metadata": {},
   "outputs": [],
   "source": [
    "a = [i for i in dct.values() if i > 200 ]"
   ]
  },
  {
   "cell_type": "code",
   "execution_count": 63,
   "id": "pleasant-reasoning",
   "metadata": {},
   "outputs": [
    {
     "data": {
      "text/plain": [
       "927"
      ]
     },
     "execution_count": 63,
     "metadata": {},
     "output_type": "execute_result"
    }
   ],
   "source": [
    "len(a)"
   ]
  },
  {
   "cell_type": "code",
   "execution_count": null,
   "id": "constant-trust",
   "metadata": {},
   "outputs": [],
   "source": []
  },
  {
   "cell_type": "code",
   "execution_count": null,
   "id": "empirical-visiting",
   "metadata": {},
   "outputs": [],
   "source": []
  },
  {
   "cell_type": "code",
   "execution_count": null,
   "id": "consistent-object",
   "metadata": {},
   "outputs": [],
   "source": []
  },
  {
   "cell_type": "code",
   "execution_count": null,
   "id": "helpful-association",
   "metadata": {},
   "outputs": [],
   "source": []
  },
  {
   "cell_type": "code",
   "execution_count": null,
   "id": "color-inspector",
   "metadata": {},
   "outputs": [],
   "source": []
  },
  {
   "cell_type": "code",
   "execution_count": null,
   "id": "crazy-extent",
   "metadata": {},
   "outputs": [],
   "source": []
  },
  {
   "cell_type": "code",
   "execution_count": null,
   "id": "antique-bedroom",
   "metadata": {},
   "outputs": [],
   "source": []
  },
  {
   "cell_type": "code",
   "execution_count": null,
   "id": "resident-price",
   "metadata": {},
   "outputs": [],
   "source": []
  },
  {
   "cell_type": "code",
   "execution_count": null,
   "id": "engaged-handling",
   "metadata": {},
   "outputs": [],
   "source": []
  },
  {
   "cell_type": "code",
   "execution_count": null,
   "id": "alert-frederick",
   "metadata": {},
   "outputs": [],
   "source": []
  }
 ],
 "metadata": {
  "kernelspec": {
   "display_name": "Python 3",
   "language": "python",
   "name": "python3"
  },
  "language_info": {
   "codemirror_mode": {
    "name": "ipython",
    "version": 3
   },
   "file_extension": ".py",
   "mimetype": "text/x-python",
   "name": "python",
   "nbconvert_exporter": "python",
   "pygments_lexer": "ipython3",
   "version": "3.8.5"
  }
 },
 "nbformat": 4,
 "nbformat_minor": 5
}
